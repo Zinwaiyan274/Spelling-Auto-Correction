{
  "nbformat": 4,
  "nbformat_minor": 0,
  "metadata": {
    "colab": {
      "name": "Spelling auto correction.ipynb",
      "provenance": [],
      "authorship_tag": "ABX9TyOdbXONNG3dXfZQk4cX3euG",
      "include_colab_link": true
    },
    "kernelspec": {
      "name": "python3",
      "display_name": "Python 3"
    },
    "language_info": {
      "name": "python"
    }
  },
  "cells": [
    {
      "cell_type": "markdown",
      "metadata": {
        "id": "view-in-github",
        "colab_type": "text"
      },
      "source": [
        "<a href=\"https://colab.research.google.com/github/Zinwaiyan274/Spelling-Auto-Correction/blob/main/Spelling_auto_correction.ipynb\" target=\"_parent\"><img src=\"https://colab.research.google.com/assets/colab-badge.svg\" alt=\"Open In Colab\"/></a>"
      ]
    },
    {
      "cell_type": "code",
      "execution_count": 1,
      "metadata": {
        "colab": {
          "base_uri": "https://localhost:8080/"
        },
        "id": "wlymryEjDTc6",
        "outputId": "6480f3b4-0cdc-49c3-dd8e-9d2d6627a896"
      },
      "outputs": [
        {
          "output_type": "stream",
          "name": "stdout",
          "text": [
            "Wrong words : ['Data Scence', 'Mahine Learnin']\n",
            "Corrected Words are :\n",
            "Data Science Machine Learning "
          ]
        }
      ],
      "source": [
        "from textblob import TextBlob\n",
        "words = [\"Data Scence\", \"Mahine Learnin\"]\n",
        "corrected_words = []\n",
        "for i in words:\n",
        "    corrected_words.append(TextBlob(i))\n",
        "print(\"Wrong words :\", words)\n",
        "print(\"Corrected Words are :\")\n",
        "for i in corrected_words:\n",
        "    print(i.correct(), end=\" \")"
      ]
    }
  ]
}